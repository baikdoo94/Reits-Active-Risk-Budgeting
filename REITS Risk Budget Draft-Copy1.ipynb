{
 "cells": [
  {
   "cell_type": "markdown",
   "metadata": {},
   "source": [
    "### 모듈 불러오기"
   ]
  },
  {
   "cell_type": "code",
   "execution_count": 1,
   "metadata": {},
   "outputs": [],
   "source": [
    "import pandas as pd\n",
    "import numpy as np\n",
    "import matplotlib.pyplot as plt\n",
    "from scipy.stats import stats\n",
    "from scipy.optimize import minimize"
   ]
  },
  {
   "cell_type": "markdown",
   "metadata": {},
   "source": [
    "### 전처리  \n",
    "\n",
    " \n",
    "+ 모든 섹터가 있는 2010년 8월 19일부터 2020년 7월 31일 까지만 사용\n",
    "<br>\n",
    "<br>\n",
    "+ 일자별 수익률 사용"
   ]
  },
  {
   "cell_type": "code",
   "execution_count": 2,
   "metadata": {},
   "outputs": [
    {
     "name": "stdout",
     "output_type": "stream",
     "text": [
      "Int64Index([159], dtype='int64')\n",
      "Int64Index([2663], dtype='int64')\n"
     ]
    }
   ],
   "source": [
    "raw = pd.read_csv(\"REITS1.csv\")\n",
    "\n",
    "#SRVR은 범위가 좀 다르게 들어가 있다. 인덱스 확인\n",
    "print(raw[raw.iloc[:,0] == '2010-08-19'].index)\n",
    "print(raw[raw.iloc[:,0] == '2020-07-31'].index)"
   ]
  },
  {
   "cell_type": "code",
   "execution_count": 3,
   "metadata": {},
   "outputs": [],
   "source": [
    "#SRVRSCRTR만 추출 병합을 위하여 인덱스를 맞추기\n",
    "SRVR = raw['SRVRSCTR'].iloc[159:2664]\n",
    "SRVR.index = list(range(1,2506))"
   ]
  },
  {
   "cell_type": "code",
   "execution_count": 4,
   "metadata": {},
   "outputs": [
    {
     "name": "stdout",
     "output_type": "stream",
     "text": [
      "Int64Index([2505], dtype='int64')\n"
     ]
    }
   ],
   "source": [
    "#나머지도 범위 맞춰 추출\n",
    "print(raw[raw.iloc[:,2] == '2020-07-31'].index)\n",
    "left = raw[['Date.1', 'RTLSCTR', 'INDSSCTR', 'PADSCTR', 'RXRE', 'DESK', 'HOTL']]\n",
    "left_ = left.iloc[1:2506]"
   ]
  },
  {
   "cell_type": "code",
   "execution_count": 5,
   "metadata": {},
   "outputs": [
    {
     "name": "stderr",
     "output_type": "stream",
     "text": [
      "C:\\ProgramData\\Anaconda3\\lib\\site-packages\\ipykernel_launcher.py:2: SettingWithCopyWarning: \n",
      "A value is trying to be set on a copy of a slice from a DataFrame.\n",
      "Try using .loc[row_indexer,col_indexer] = value instead\n",
      "\n",
      "See the caveats in the documentation: https://pandas.pydata.org/pandas-docs/stable/user_guide/indexing.html#returning-a-view-versus-a-copy\n",
      "  \n"
     ]
    },
    {
     "data": {
      "text/html": [
       "<div>\n",
       "<style scoped>\n",
       "    .dataframe tbody tr th:only-of-type {\n",
       "        vertical-align: middle;\n",
       "    }\n",
       "\n",
       "    .dataframe tbody tr th {\n",
       "        vertical-align: top;\n",
       "    }\n",
       "\n",
       "    .dataframe thead th {\n",
       "        text-align: right;\n",
       "    }\n",
       "</style>\n",
       "<table border=\"1\" class=\"dataframe\">\n",
       "  <thead>\n",
       "    <tr style=\"text-align: right;\">\n",
       "      <th></th>\n",
       "      <th>Date.1</th>\n",
       "      <th>RTLSCTR</th>\n",
       "      <th>INDSSCTR</th>\n",
       "      <th>PADSCTR</th>\n",
       "      <th>RXRE</th>\n",
       "      <th>DESK</th>\n",
       "      <th>HOTL</th>\n",
       "      <th>SRVRSCTR</th>\n",
       "    </tr>\n",
       "  </thead>\n",
       "  <tbody>\n",
       "    <tr>\n",
       "      <th>1</th>\n",
       "      <td>2010-08-19</td>\n",
       "      <td>449.87</td>\n",
       "      <td>272.67</td>\n",
       "      <td>396.67</td>\n",
       "      <td>428.39</td>\n",
       "      <td>535.81</td>\n",
       "      <td>333.65</td>\n",
       "      <td>301.85</td>\n",
       "    </tr>\n",
       "    <tr>\n",
       "      <th>2</th>\n",
       "      <td>2010-08-20</td>\n",
       "      <td>447.67</td>\n",
       "      <td>272.46</td>\n",
       "      <td>397.25</td>\n",
       "      <td>429.16</td>\n",
       "      <td>534.77</td>\n",
       "      <td>331.03</td>\n",
       "      <td>301.59</td>\n",
       "    </tr>\n",
       "    <tr>\n",
       "      <th>3</th>\n",
       "      <td>2010-08-23</td>\n",
       "      <td>444.86</td>\n",
       "      <td>270.03</td>\n",
       "      <td>395.06</td>\n",
       "      <td>427.60</td>\n",
       "      <td>534.97</td>\n",
       "      <td>327.16</td>\n",
       "      <td>298.04</td>\n",
       "    </tr>\n",
       "    <tr>\n",
       "      <th>4</th>\n",
       "      <td>2010-08-24</td>\n",
       "      <td>443.68</td>\n",
       "      <td>268.04</td>\n",
       "      <td>394.29</td>\n",
       "      <td>425.83</td>\n",
       "      <td>532.78</td>\n",
       "      <td>319.67</td>\n",
       "      <td>294.48</td>\n",
       "    </tr>\n",
       "    <tr>\n",
       "      <th>5</th>\n",
       "      <td>2010-08-25</td>\n",
       "      <td>452.41</td>\n",
       "      <td>273.55</td>\n",
       "      <td>402.17</td>\n",
       "      <td>432.88</td>\n",
       "      <td>543.88</td>\n",
       "      <td>324.36</td>\n",
       "      <td>298.01</td>\n",
       "    </tr>\n",
       "    <tr>\n",
       "      <th>...</th>\n",
       "      <td>...</td>\n",
       "      <td>...</td>\n",
       "      <td>...</td>\n",
       "      <td>...</td>\n",
       "      <td>...</td>\n",
       "      <td>...</td>\n",
       "      <td>...</td>\n",
       "      <td>...</td>\n",
       "    </tr>\n",
       "    <tr>\n",
       "      <th>2501</th>\n",
       "      <td>2020-07-27</td>\n",
       "      <td>630.52</td>\n",
       "      <td>1483.75</td>\n",
       "      <td>1054.64</td>\n",
       "      <td>1026.85</td>\n",
       "      <td>725.78</td>\n",
       "      <td>637.34</td>\n",
       "      <td>1532.23</td>\n",
       "    </tr>\n",
       "    <tr>\n",
       "      <th>2502</th>\n",
       "      <td>2020-07-28</td>\n",
       "      <td>650.23</td>\n",
       "      <td>1507.74</td>\n",
       "      <td>1078.38</td>\n",
       "      <td>1054.43</td>\n",
       "      <td>745.22</td>\n",
       "      <td>642.48</td>\n",
       "      <td>1543.31</td>\n",
       "    </tr>\n",
       "    <tr>\n",
       "      <th>2503</th>\n",
       "      <td>2020-07-29</td>\n",
       "      <td>661.00</td>\n",
       "      <td>1558.07</td>\n",
       "      <td>1085.41</td>\n",
       "      <td>1080.27</td>\n",
       "      <td>750.44</td>\n",
       "      <td>654.01</td>\n",
       "      <td>1567.00</td>\n",
       "    </tr>\n",
       "    <tr>\n",
       "      <th>2504</th>\n",
       "      <td>2020-07-30</td>\n",
       "      <td>652.24</td>\n",
       "      <td>1556.92</td>\n",
       "      <td>1094.08</td>\n",
       "      <td>1075.76</td>\n",
       "      <td>737.03</td>\n",
       "      <td>642.54</td>\n",
       "      <td>1556.44</td>\n",
       "    </tr>\n",
       "    <tr>\n",
       "      <th>2505</th>\n",
       "      <td>2020-07-31</td>\n",
       "      <td>642.84</td>\n",
       "      <td>1554.23</td>\n",
       "      <td>1096.32</td>\n",
       "      <td>1064.94</td>\n",
       "      <td>736.57</td>\n",
       "      <td>630.96</td>\n",
       "      <td>1554.61</td>\n",
       "    </tr>\n",
       "  </tbody>\n",
       "</table>\n",
       "<p>2505 rows × 8 columns</p>\n",
       "</div>"
      ],
      "text/plain": [
       "          Date.1  RTLSCTR  INDSSCTR  PADSCTR     RXRE    DESK    HOTL  \\\n",
       "1     2010-08-19   449.87    272.67   396.67   428.39  535.81  333.65   \n",
       "2     2010-08-20   447.67    272.46   397.25   429.16  534.77  331.03   \n",
       "3     2010-08-23   444.86    270.03   395.06   427.60  534.97  327.16   \n",
       "4     2010-08-24   443.68    268.04   394.29   425.83  532.78  319.67   \n",
       "5     2010-08-25   452.41    273.55   402.17   432.88  543.88  324.36   \n",
       "...          ...      ...       ...      ...      ...     ...     ...   \n",
       "2501  2020-07-27   630.52   1483.75  1054.64  1026.85  725.78  637.34   \n",
       "2502  2020-07-28   650.23   1507.74  1078.38  1054.43  745.22  642.48   \n",
       "2503  2020-07-29   661.00   1558.07  1085.41  1080.27  750.44  654.01   \n",
       "2504  2020-07-30   652.24   1556.92  1094.08  1075.76  737.03  642.54   \n",
       "2505  2020-07-31   642.84   1554.23  1096.32  1064.94  736.57  630.96   \n",
       "\n",
       "      SRVRSCTR  \n",
       "1       301.85  \n",
       "2       301.59  \n",
       "3       298.04  \n",
       "4       294.48  \n",
       "5       298.01  \n",
       "...        ...  \n",
       "2501   1532.23  \n",
       "2502   1543.31  \n",
       "2503   1567.00  \n",
       "2504   1556.44  \n",
       "2505   1554.61  \n",
       "\n",
       "[2505 rows x 8 columns]"
      ]
     },
     "execution_count": 5,
     "metadata": {},
     "output_type": "execute_result"
    }
   ],
   "source": [
    "#SRVR과 병합\n",
    "left_['SRVRSCTR']=SRVR\n",
    "reits_data = left_\n",
    "reits_data"
   ]
  },
  {
   "cell_type": "code",
   "execution_count": 6,
   "metadata": {},
   "outputs": [
    {
     "data": {
      "text/html": [
       "<div>\n",
       "<style scoped>\n",
       "    .dataframe tbody tr th:only-of-type {\n",
       "        vertical-align: middle;\n",
       "    }\n",
       "\n",
       "    .dataframe tbody tr th {\n",
       "        vertical-align: top;\n",
       "    }\n",
       "\n",
       "    .dataframe thead th {\n",
       "        text-align: right;\n",
       "    }\n",
       "</style>\n",
       "<table border=\"1\" class=\"dataframe\">\n",
       "  <thead>\n",
       "    <tr style=\"text-align: right;\">\n",
       "      <th></th>\n",
       "      <th>RTLSCTR</th>\n",
       "      <th>INDSSCTR</th>\n",
       "      <th>PADSCTR</th>\n",
       "      <th>RXRE</th>\n",
       "      <th>DESK</th>\n",
       "      <th>HOTL</th>\n",
       "      <th>SRVRSCTR</th>\n",
       "    </tr>\n",
       "    <tr>\n",
       "      <th>Date.1</th>\n",
       "      <th></th>\n",
       "      <th></th>\n",
       "      <th></th>\n",
       "      <th></th>\n",
       "      <th></th>\n",
       "      <th></th>\n",
       "      <th></th>\n",
       "    </tr>\n",
       "  </thead>\n",
       "  <tbody>\n",
       "    <tr>\n",
       "      <th>2010-08-19</th>\n",
       "      <td>NaN</td>\n",
       "      <td>NaN</td>\n",
       "      <td>NaN</td>\n",
       "      <td>NaN</td>\n",
       "      <td>NaN</td>\n",
       "      <td>NaN</td>\n",
       "      <td>NaN</td>\n",
       "    </tr>\n",
       "    <tr>\n",
       "      <th>2010-08-20</th>\n",
       "      <td>-0.004890</td>\n",
       "      <td>-0.000770</td>\n",
       "      <td>0.001462</td>\n",
       "      <td>0.001797</td>\n",
       "      <td>-0.001941</td>\n",
       "      <td>-0.007853</td>\n",
       "      <td>-0.000861</td>\n",
       "    </tr>\n",
       "    <tr>\n",
       "      <th>2010-08-23</th>\n",
       "      <td>-0.006277</td>\n",
       "      <td>-0.008919</td>\n",
       "      <td>-0.005513</td>\n",
       "      <td>-0.003635</td>\n",
       "      <td>0.000374</td>\n",
       "      <td>-0.011691</td>\n",
       "      <td>-0.011771</td>\n",
       "    </tr>\n",
       "    <tr>\n",
       "      <th>2010-08-24</th>\n",
       "      <td>-0.002653</td>\n",
       "      <td>-0.007370</td>\n",
       "      <td>-0.001949</td>\n",
       "      <td>-0.004139</td>\n",
       "      <td>-0.004094</td>\n",
       "      <td>-0.022894</td>\n",
       "      <td>-0.011945</td>\n",
       "    </tr>\n",
       "    <tr>\n",
       "      <th>2010-08-25</th>\n",
       "      <td>0.019676</td>\n",
       "      <td>0.020557</td>\n",
       "      <td>0.019985</td>\n",
       "      <td>0.016556</td>\n",
       "      <td>0.020834</td>\n",
       "      <td>0.014671</td>\n",
       "      <td>0.011987</td>\n",
       "    </tr>\n",
       "    <tr>\n",
       "      <th>...</th>\n",
       "      <td>...</td>\n",
       "      <td>...</td>\n",
       "      <td>...</td>\n",
       "      <td>...</td>\n",
       "      <td>...</td>\n",
       "      <td>...</td>\n",
       "      <td>...</td>\n",
       "    </tr>\n",
       "    <tr>\n",
       "      <th>2020-07-27</th>\n",
       "      <td>0.013193</td>\n",
       "      <td>0.014766</td>\n",
       "      <td>-0.001638</td>\n",
       "      <td>0.006272</td>\n",
       "      <td>0.001103</td>\n",
       "      <td>-0.013314</td>\n",
       "      <td>0.018662</td>\n",
       "    </tr>\n",
       "    <tr>\n",
       "      <th>2020-07-28</th>\n",
       "      <td>0.031260</td>\n",
       "      <td>0.016168</td>\n",
       "      <td>0.022510</td>\n",
       "      <td>0.026859</td>\n",
       "      <td>0.026785</td>\n",
       "      <td>0.008065</td>\n",
       "      <td>0.007231</td>\n",
       "    </tr>\n",
       "    <tr>\n",
       "      <th>2020-07-29</th>\n",
       "      <td>0.016563</td>\n",
       "      <td>0.033381</td>\n",
       "      <td>0.006519</td>\n",
       "      <td>0.024506</td>\n",
       "      <td>0.007005</td>\n",
       "      <td>0.017946</td>\n",
       "      <td>0.015350</td>\n",
       "    </tr>\n",
       "    <tr>\n",
       "      <th>2020-07-30</th>\n",
       "      <td>-0.013253</td>\n",
       "      <td>-0.000738</td>\n",
       "      <td>0.007988</td>\n",
       "      <td>-0.004175</td>\n",
       "      <td>-0.017870</td>\n",
       "      <td>-0.017538</td>\n",
       "      <td>-0.006739</td>\n",
       "    </tr>\n",
       "    <tr>\n",
       "      <th>2020-07-31</th>\n",
       "      <td>-0.014412</td>\n",
       "      <td>-0.001728</td>\n",
       "      <td>0.002047</td>\n",
       "      <td>-0.010058</td>\n",
       "      <td>-0.000624</td>\n",
       "      <td>-0.018022</td>\n",
       "      <td>-0.001176</td>\n",
       "    </tr>\n",
       "  </tbody>\n",
       "</table>\n",
       "<p>2505 rows × 7 columns</p>\n",
       "</div>"
      ],
      "text/plain": [
       "             RTLSCTR  INDSSCTR   PADSCTR      RXRE      DESK      HOTL  \\\n",
       "Date.1                                                                   \n",
       "2010-08-19       NaN       NaN       NaN       NaN       NaN       NaN   \n",
       "2010-08-20 -0.004890 -0.000770  0.001462  0.001797 -0.001941 -0.007853   \n",
       "2010-08-23 -0.006277 -0.008919 -0.005513 -0.003635  0.000374 -0.011691   \n",
       "2010-08-24 -0.002653 -0.007370 -0.001949 -0.004139 -0.004094 -0.022894   \n",
       "2010-08-25  0.019676  0.020557  0.019985  0.016556  0.020834  0.014671   \n",
       "...              ...       ...       ...       ...       ...       ...   \n",
       "2020-07-27  0.013193  0.014766 -0.001638  0.006272  0.001103 -0.013314   \n",
       "2020-07-28  0.031260  0.016168  0.022510  0.026859  0.026785  0.008065   \n",
       "2020-07-29  0.016563  0.033381  0.006519  0.024506  0.007005  0.017946   \n",
       "2020-07-30 -0.013253 -0.000738  0.007988 -0.004175 -0.017870 -0.017538   \n",
       "2020-07-31 -0.014412 -0.001728  0.002047 -0.010058 -0.000624 -0.018022   \n",
       "\n",
       "            SRVRSCTR  \n",
       "Date.1                \n",
       "2010-08-19       NaN  \n",
       "2010-08-20 -0.000861  \n",
       "2010-08-23 -0.011771  \n",
       "2010-08-24 -0.011945  \n",
       "2010-08-25  0.011987  \n",
       "...              ...  \n",
       "2020-07-27  0.018662  \n",
       "2020-07-28  0.007231  \n",
       "2020-07-29  0.015350  \n",
       "2020-07-30 -0.006739  \n",
       "2020-07-31 -0.001176  \n",
       "\n",
       "[2505 rows x 7 columns]"
      ]
     },
     "execution_count": 6,
     "metadata": {},
     "output_type": "execute_result"
    }
   ],
   "source": [
    "#리츠의 일자별 리턴\n",
    "reits_data.index = reits_data.iloc[:,0]\n",
    "rets = reits_data.iloc[:,1:]\n",
    "rets = rets.pct_change(1)\n",
    "rets"
   ]
  },
  {
   "cell_type": "markdown",
   "metadata": {},
   "source": [
    "## Risk Parity  \n",
    "<br>\n",
    "\n",
    "+ Marginal Risk Contribution과 Risk Contribution<br><br>\n",
    "    특정 종목의 비중을 한 단위 늘렸을 때 증가하는 포트폴리오의 위험<br>\n",
    "    전체 포트폴리오위험을 특정 종목의 비중으로 편미분 한 것<br><br>\n",
    "+ Risk Contribution<br><br>\n",
    "    MRC * weight로 구하며 전체 포트폴리오에서 차지하는 위험비중<br>\n",
    "    MRC가 작더라도 비중이 크면, 전체포트폴리오에서 차지하는 위험은 커진다."
   ]
  },
  {
   "cell_type": "code",
   "execution_count": 7,
   "metadata": {},
   "outputs": [
    {
     "data": {
      "text/html": [
       "<div>\n",
       "<style scoped>\n",
       "    .dataframe tbody tr th:only-of-type {\n",
       "        vertical-align: middle;\n",
       "    }\n",
       "\n",
       "    .dataframe tbody tr th {\n",
       "        vertical-align: top;\n",
       "    }\n",
       "\n",
       "    .dataframe thead th {\n",
       "        text-align: right;\n",
       "    }\n",
       "</style>\n",
       "<table border=\"1\" class=\"dataframe\">\n",
       "  <thead>\n",
       "    <tr style=\"text-align: right;\">\n",
       "      <th></th>\n",
       "      <th>RTLSCTR</th>\n",
       "      <th>INDSSCTR</th>\n",
       "      <th>PADSCTR</th>\n",
       "      <th>RXRE</th>\n",
       "      <th>DESK</th>\n",
       "      <th>HOTL</th>\n",
       "      <th>SRVRSCTR</th>\n",
       "    </tr>\n",
       "  </thead>\n",
       "  <tbody>\n",
       "    <tr>\n",
       "      <th>RTLSCTR</th>\n",
       "      <td>0.000263</td>\n",
       "      <td>0.000187</td>\n",
       "      <td>0.000185</td>\n",
       "      <td>0.000225</td>\n",
       "      <td>0.000207</td>\n",
       "      <td>0.000213</td>\n",
       "      <td>0.000136</td>\n",
       "    </tr>\n",
       "    <tr>\n",
       "      <th>INDSSCTR</th>\n",
       "      <td>0.000187</td>\n",
       "      <td>0.000189</td>\n",
       "      <td>0.000165</td>\n",
       "      <td>0.000191</td>\n",
       "      <td>0.000180</td>\n",
       "      <td>0.000166</td>\n",
       "      <td>0.000139</td>\n",
       "    </tr>\n",
       "    <tr>\n",
       "      <th>PADSCTR</th>\n",
       "      <td>0.000185</td>\n",
       "      <td>0.000165</td>\n",
       "      <td>0.000181</td>\n",
       "      <td>0.000183</td>\n",
       "      <td>0.000173</td>\n",
       "      <td>0.000155</td>\n",
       "      <td>0.000125</td>\n",
       "    </tr>\n",
       "    <tr>\n",
       "      <th>RXRE</th>\n",
       "      <td>0.000225</td>\n",
       "      <td>0.000191</td>\n",
       "      <td>0.000183</td>\n",
       "      <td>0.000250</td>\n",
       "      <td>0.000198</td>\n",
       "      <td>0.000189</td>\n",
       "      <td>0.000141</td>\n",
       "    </tr>\n",
       "    <tr>\n",
       "      <th>DESK</th>\n",
       "      <td>0.000207</td>\n",
       "      <td>0.000180</td>\n",
       "      <td>0.000173</td>\n",
       "      <td>0.000198</td>\n",
       "      <td>0.000202</td>\n",
       "      <td>0.000187</td>\n",
       "      <td>0.000134</td>\n",
       "    </tr>\n",
       "    <tr>\n",
       "      <th>HOTL</th>\n",
       "      <td>0.000213</td>\n",
       "      <td>0.000166</td>\n",
       "      <td>0.000155</td>\n",
       "      <td>0.000189</td>\n",
       "      <td>0.000187</td>\n",
       "      <td>0.000278</td>\n",
       "      <td>0.000131</td>\n",
       "    </tr>\n",
       "    <tr>\n",
       "      <th>SRVRSCTR</th>\n",
       "      <td>0.000136</td>\n",
       "      <td>0.000139</td>\n",
       "      <td>0.000125</td>\n",
       "      <td>0.000141</td>\n",
       "      <td>0.000134</td>\n",
       "      <td>0.000131</td>\n",
       "      <td>0.000145</td>\n",
       "    </tr>\n",
       "  </tbody>\n",
       "</table>\n",
       "</div>"
      ],
      "text/plain": [
       "           RTLSCTR  INDSSCTR   PADSCTR      RXRE      DESK      HOTL  SRVRSCTR\n",
       "RTLSCTR   0.000263  0.000187  0.000185  0.000225  0.000207  0.000213  0.000136\n",
       "INDSSCTR  0.000187  0.000189  0.000165  0.000191  0.000180  0.000166  0.000139\n",
       "PADSCTR   0.000185  0.000165  0.000181  0.000183  0.000173  0.000155  0.000125\n",
       "RXRE      0.000225  0.000191  0.000183  0.000250  0.000198  0.000189  0.000141\n",
       "DESK      0.000207  0.000180  0.000173  0.000198  0.000202  0.000187  0.000134\n",
       "HOTL      0.000213  0.000166  0.000155  0.000189  0.000187  0.000278  0.000131\n",
       "SRVRSCTR  0.000136  0.000139  0.000125  0.000141  0.000134  0.000131  0.000145"
      ]
     },
     "execution_count": 7,
     "metadata": {},
     "output_type": "execute_result"
    }
   ],
   "source": [
    "#MRC와 RC를 구하기 위해서는 공분산 행렬이 필요하다.\n",
    "#공분산행렬 계산\n",
    "covmat = rets.cov()\n",
    "covmat"
   ]
  },
  {
   "attachments": {
    "image.png": {
     "image/png": "[encoded data removed]"
    }
   },
   "cell_type": "markdown",
   "metadata": {},
   "source": [
    "+ 리스크 패리티의 목적함수<br>\n",
    "+ 위험 기여도 간의 차이의 제곱합을 최소화한다.\n",
    "![image.png](attachment:image.png)  \n"
   ]
  },
  {
   "cell_type": "code",
   "execution_count": 8,
   "metadata": {},
   "outputs": [],
   "source": [
    "#여기서부터 코세라 강의에서 나온 코드\n",
    "#lab24\n",
    "#https://www.coursera.org/learn/advanced-portfolio-construction-python/lecture/u0D4G/module-4-lab-session-risk-contribution-and-risk-parity\n",
    "\n",
    "import edhec_risk_kit_206 as erk\n",
    "#웨이트와 공분산행렬이 주어졌을 때,\n",
    "#각 자산별 전체 포트폴리오 리스크에 기여하는 비중을 구하는 함수\n",
    "def risk_contribution(w,cov):\n",
    "    \"\"\"\n",
    "    Compute the contributions to risk of the constituents of a portfolio, given a set of portfolio weights and a covariance matrix\n",
    "    \"\"\"\n",
    "    total_portfolio_var = erk.portfolio_vol(w,cov)**2\n",
    "    # Marginal contribution of each constituent\n",
    "    marginal_contrib = cov@w\n",
    "    risk_contrib = np.multiply(marginal_contrib,w.T)/total_portfolio_var\n",
    "    return risk_contrib"
   ]
  },
  {
   "cell_type": "code",
   "execution_count": 9,
   "metadata": {},
   "outputs": [],
   "source": [
    "#타겟 리스크(여기서는 리스크들이 동일하므로 단순히 1/자산종류)와 공분산 행렬이 주어졌을때,\n",
    "#제약조건 하에서 : 제약조건 1 - 웨이트의 합은 1, 제약조건 2 - 웨이트들은 0과 1사이의 값\n",
    "#목적함수를 최소화 하는 웨이트를 구하는 함수\n",
    "def target_risk_contributions(target_risk, cov):\n",
    "    \"\"\"\n",
    "    Returns the weights of the portfolio that gives you the weights such\n",
    "    that the contributions to portfolio risk are as close as possible to\n",
    "    the target_risk, given the covariance matrix\n",
    "    \"\"\"\n",
    "    n = cov.shape[0]\n",
    "    init_guess = np.repeat(1/n, n)\n",
    "    bounds = ((0.0, 1.0),) * n # an N-tuple of 2-tuples!\n",
    "    # construct the constraints\n",
    "    weights_sum_to_1 = {'type': 'eq',\n",
    "                        'fun': lambda weights: np.sum(weights) - 1\n",
    "    }\n",
    "    def msd_risk(weights, target_risk, cov):\n",
    "        \"\"\"\n",
    "        Returns the Mean Squared Difference in risk contributions\n",
    "        between weights and target_risk\n",
    "        \"\"\"\n",
    "        w_contribs = risk_contribution(weights, cov)\n",
    "        return ((w_contribs-target_risk)**2).sum()\n",
    "    \n",
    "    weights = minimize(msd_risk, init_guess,\n",
    "                       args=(target_risk, cov), method='SLSQP',\n",
    "                       options={'disp': False},\n",
    "                       constraints=(weights_sum_to_1,),\n",
    "                       bounds=bounds)\n",
    "    return weights.x"
   ]
  },
  {
   "cell_type": "code",
   "execution_count": 10,
   "metadata": {},
   "outputs": [],
   "source": [
    "#공분산 행렬을 주면 1/자산종류(N)의 값이 N개 들어있는 배열을 만드는 함수\n",
    "def equal_risk_contributions(cov):\n",
    "    \"\"\"\n",
    "    Returns the weights of the portfolio that equalizes the contributions\n",
    "    of the constituents based on the given covariance matrix\n",
    "    \"\"\"\n",
    "    n = cov.shape[0]\n",
    "    return target_risk_contributions(target_risk=np.repeat(1/n,n), cov=cov)"
   ]
  },
  {
   "cell_type": "code",
   "execution_count": 11,
   "metadata": {},
   "outputs": [],
   "source": [
    "#공분산 행렬을 넣으면 ERC 포트폴리오의 웨이트를 알려주는 함수\n",
    "def weight_erc(r, cov_estimator=erk.sample_cov, **kwargs):\n",
    "    \"\"\"\n",
    "    Produces the weights of the ERC portfolio given a covariance matrix of the returns \n",
    "    \"\"\"\n",
    "    est_cov = cov_estimator(r, **kwargs)\n",
    "    return equal_risk_contributions(est_cov)"
   ]
  },
  {
   "cell_type": "code",
   "execution_count": 12,
   "metadata": {},
   "outputs": [
    {
     "data": {
      "text/plain": [
       "<matplotlib.axes._subplots.AxesSubplot at 0x2d674e3c688>"
      ]
     },
     "execution_count": 12,
     "metadata": {},
     "output_type": "execute_result"
    },
    {
     "data": {
      "image/png": "[encoded data removed]",
      "text/plain": [
       "<Figure size 432x288 with 1 Axes>"
      ]
     },
     "metadata": {
      "needs_background": "light"
     },
     "output_type": "display_data"
    }
   ],
   "source": [
    "#동일 가중 포트폴리오에서의 섹터별 리스크 컨트리뷰션\n",
    "risk_contribution(erk.weight_ew(covmat), covmat).plot.bar(title ='eqully weighted risk contributions')"
   ]
  },
  {
   "cell_type": "code",
   "execution_count": 13,
   "metadata": {},
   "outputs": [
    {
     "data": {
      "image/png": "[encoded data removed]",
      "text/plain": [
       "<Figure size 432x288 with 1 Axes>"
      ]
     },
     "metadata": {
      "needs_background": "light"
     },
     "output_type": "display_data"
    }
   ],
   "source": [
    "#리스크 패리티 후 리스크 기여도가 동일해진 것을 확인\n",
    "risk_contribution(equal_risk_contributions(covmat), covmat).plot.bar(title=\"Risk Contributions of an ERC portfolio\");"
   ]
  },
  {
   "cell_type": "code",
   "execution_count": 14,
   "metadata": {},
   "outputs": [
    {
     "data": {
      "text/plain": [
       "<matplotlib.axes._subplots.AxesSubplot at 0x2d674fc6988>"
      ]
     },
     "execution_count": 14,
     "metadata": {},
     "output_type": "execute_result"
    },
    {
     "data": {
      "image/png": "[encoded data removed]",
      "text/plain": [
       "<Figure size 460.8x345.6 with 1 Axes>"
      ]
     },
     "metadata": {
      "needs_background": "light"
     },
     "output_type": "display_data"
    }
   ],
   "source": [
    "#리스크 패리티 상태에서의 섹터별 가중치\n",
    "#SRVRSCTR 어디로?\n",
    "pd.DataFrame(weight_erc(covmat), index=covmat.index).plot.bar(title=\"weights of the ERC portfolio\",  figsize = (6.4, 4.8))"
   ]
  },
  {
   "cell_type": "markdown",
   "metadata": {},
   "source": [
    "### 백테스팅"
   ]
  },
  {
   "cell_type": "markdown",
   "metadata": {},
   "source": [
    "동일가중 포트폴리오의 누적 수익률과 비교"
   ]
  },
  {
   "cell_type": "code",
   "execution_count": 15,
   "metadata": {},
   "outputs": [
    {
     "data": {
      "text/plain": [
       "Date.1\n",
       "2010-08-19    0.000000\n",
       "2010-08-20   -0.001865\n",
       "2010-08-23   -0.006776\n",
       "2010-08-24   -0.007863\n",
       "2010-08-25    0.017752\n",
       "                ...   \n",
       "2020-07-27    0.005578\n",
       "2020-07-28    0.019840\n",
       "2020-07-29    0.017324\n",
       "2020-07-30   -0.007475\n",
       "2020-07-31   -0.006282\n",
       "Length: 2505, dtype: float64"
      ]
     },
     "execution_count": 15,
     "metadata": {},
     "output_type": "execute_result"
    }
   ],
   "source": [
    "#동일 가중 포트폴리오의 수익률\n",
    "ew_mean_rets = rets.sum(axis=1)/7\n",
    "ew_mean_rets"
   ]
  },
  {
   "cell_type": "code",
   "execution_count": 16,
   "metadata": {},
   "outputs": [
    {
     "data": {
      "text/plain": [
       "Date.1\n",
       "2010-08-19         NaN\n",
       "2010-08-20   -0.001495\n",
       "2010-08-23   -0.006027\n",
       "2010-08-24   -0.006732\n",
       "2010-08-25    0.019098\n",
       "                ...   \n",
       "2020-07-27    0.003929\n",
       "2020-07-28    0.021250\n",
       "2020-07-29    0.018104\n",
       "2020-07-30   -0.005581\n",
       "2020-07-31   -0.005246\n",
       "Length: 2505, dtype: float64"
      ]
     },
     "execution_count": 16,
     "metadata": {},
     "output_type": "execute_result"
    }
   ],
   "source": [
    "#리스크 패리티포트폴리오의 수익률\n",
    "erc_weight = weight_erc(covmat)\n",
    "erc_rets = rets @ erc_weight\n",
    "erc_rets"
   ]
  },
  {
   "cell_type": "code",
   "execution_count": 17,
   "metadata": {},
   "outputs": [
    {
     "data": {
      "text/html": [
       "<div>\n",
       "<style scoped>\n",
       "    .dataframe tbody tr th:only-of-type {\n",
       "        vertical-align: middle;\n",
       "    }\n",
       "\n",
       "    .dataframe tbody tr th {\n",
       "        vertical-align: top;\n",
       "    }\n",
       "\n",
       "    .dataframe thead th {\n",
       "        text-align: right;\n",
       "    }\n",
       "</style>\n",
       "<table border=\"1\" class=\"dataframe\">\n",
       "  <thead>\n",
       "    <tr style=\"text-align: right;\">\n",
       "      <th></th>\n",
       "      <th>MA5</th>\n",
       "      <th>MA20</th>\n",
       "      <th>MA60</th>\n",
       "      <th>MA120</th>\n",
       "    </tr>\n",
       "    <tr>\n",
       "      <th>Date.1</th>\n",
       "      <th></th>\n",
       "      <th></th>\n",
       "      <th></th>\n",
       "      <th></th>\n",
       "    </tr>\n",
       "  </thead>\n",
       "  <tbody>\n",
       "    <tr>\n",
       "      <th>2020-07-27</th>\n",
       "      <td>0.002614</td>\n",
       "      <td>0.001061</td>\n",
       "      <td>0.000687</td>\n",
       "      <td>-0.001334</td>\n",
       "    </tr>\n",
       "    <tr>\n",
       "      <th>2020-07-28</th>\n",
       "      <td>0.004712</td>\n",
       "      <td>0.000668</td>\n",
       "      <td>0.001702</td>\n",
       "      <td>-0.001191</td>\n",
       "    </tr>\n",
       "    <tr>\n",
       "      <th>2020-07-29</th>\n",
       "      <td>0.004510</td>\n",
       "      <td>0.001272</td>\n",
       "      <td>0.002128</td>\n",
       "      <td>-0.001068</td>\n",
       "    </tr>\n",
       "    <tr>\n",
       "      <th>2020-07-30</th>\n",
       "      <td>0.004496</td>\n",
       "      <td>-0.000050</td>\n",
       "      <td>0.001981</td>\n",
       "      <td>-0.001101</td>\n",
       "    </tr>\n",
       "    <tr>\n",
       "      <th>2020-07-31</th>\n",
       "      <td>0.005797</td>\n",
       "      <td>-0.000190</td>\n",
       "      <td>0.002214</td>\n",
       "      <td>-0.001246</td>\n",
       "    </tr>\n",
       "  </tbody>\n",
       "</table>\n",
       "</div>"
      ],
      "text/plain": [
       "                 MA5      MA20      MA60     MA120\n",
       "Date.1                                            \n",
       "2020-07-27  0.002614  0.001061  0.000687 -0.001334\n",
       "2020-07-28  0.004712  0.000668  0.001702 -0.001191\n",
       "2020-07-29  0.004510  0.001272  0.002128 -0.001068\n",
       "2020-07-30  0.004496 -0.000050  0.001981 -0.001101\n",
       "2020-07-31  0.005797 -0.000190  0.002214 -0.001246"
      ]
     },
     "execution_count": 17,
     "metadata": {},
     "output_type": "execute_result"
    }
   ],
   "source": [
    "#EW 이동평균 수익률\n",
    "#ERC 이평 수익률도 만들어서 비교\n",
    "ma5 = ew_mean_rets.rolling(window=5).mean()\n",
    "ma20 = ew_mean_rets.rolling(window=20).mean()\n",
    "ma60 = ew_mean_rets.rolling(window=60).mean()\n",
    "ma120 = ew_mean_rets.rolling(window=120).mean()\n",
    "\n",
    "ew_df = pd.DataFrame()\n",
    "ew_df['MA5'] = ma5\n",
    "ew_df['MA20'] = ma20\n",
    "ew_df['MA60'] = ma60\n",
    "ew_df['MA120'] = ma120\n",
    "\n",
    "ew_df.tail()"
   ]
  },
  {
   "cell_type": "code",
   "execution_count": 18,
   "metadata": {},
   "outputs": [
    {
     "data": {
      "text/html": [
       "<div>\n",
       "<style scoped>\n",
       "    .dataframe tbody tr th:only-of-type {\n",
       "        vertical-align: middle;\n",
       "    }\n",
       "\n",
       "    .dataframe tbody tr th {\n",
       "        vertical-align: top;\n",
       "    }\n",
       "\n",
       "    .dataframe thead th {\n",
       "        text-align: right;\n",
       "    }\n",
       "</style>\n",
       "<table border=\"1\" class=\"dataframe\">\n",
       "  <thead>\n",
       "    <tr style=\"text-align: right;\">\n",
       "      <th></th>\n",
       "      <th>MA60</th>\n",
       "    </tr>\n",
       "    <tr>\n",
       "      <th>Date.1</th>\n",
       "      <th></th>\n",
       "    </tr>\n",
       "  </thead>\n",
       "  <tbody>\n",
       "    <tr>\n",
       "      <th>2020-07-27</th>\n",
       "      <td>0.000565</td>\n",
       "    </tr>\n",
       "    <tr>\n",
       "      <th>2020-07-28</th>\n",
       "      <td>0.001615</td>\n",
       "    </tr>\n",
       "    <tr>\n",
       "      <th>2020-07-29</th>\n",
       "      <td>0.002079</td>\n",
       "    </tr>\n",
       "    <tr>\n",
       "      <th>2020-07-30</th>\n",
       "      <td>0.001972</td>\n",
       "    </tr>\n",
       "    <tr>\n",
       "      <th>2020-07-31</th>\n",
       "      <td>0.002226</td>\n",
       "    </tr>\n",
       "  </tbody>\n",
       "</table>\n",
       "</div>"
      ],
      "text/plain": [
       "                MA60\n",
       "Date.1              \n",
       "2020-07-27  0.000565\n",
       "2020-07-28  0.001615\n",
       "2020-07-29  0.002079\n",
       "2020-07-30  0.001972\n",
       "2020-07-31  0.002226"
      ]
     },
     "execution_count": 18,
     "metadata": {},
     "output_type": "execute_result"
    }
   ],
   "source": [
    "#리스크 패리티의 이동평균 수익률\n",
    "#일단은 60일 이동평균 수익률만 비교하기 위해\n",
    "erc_df = pd.DataFrame()\n",
    "#erc_df['MA5'] = ma5\n",
    "#erc_df['MA20'] = ma20\n",
    "erc_df['MA60'] = erc_rets.rolling(window=60).mean()\n",
    "#erc_df['MA120'] = ma120\n",
    "\n",
    "erc_df.tail()"
   ]
  },
  {
   "cell_type": "code",
   "execution_count": 19,
   "metadata": {},
   "outputs": [
    {
     "data": {
      "image/png": "[encoded data removed]",
      "text/plain": [
       "<Figure size 1224x504 with 1 Axes>"
      ]
     },
     "metadata": {
      "needs_background": "light"
     },
     "output_type": "display_data"
    }
   ],
   "source": [
    "#두 포트폴리오의 60일 이동평균 누적 수익률은 거의 비슷하게 움직이는 것 같다.\n",
    "plt.rcParams[\"figure.figsize\"] = (17,7)\n",
    "plt.plot(rets.index, (ew_df['MA60']+1).cumprod(), label='EW')\n",
    "plt.plot(rets.index, (erc_df['MA60']+1).cumprod(), label='ERC')\n",
    "plt.legend()\n",
    "plt.grid()"
   ]
  },
  {
   "cell_type": "markdown",
   "metadata": {},
   "source": [
    "### 샤프비율 극대화 포트폴리오의 수익률"
   ]
  },
  {
   "cell_type": "code",
   "execution_count": 20,
   "metadata": {},
   "outputs": [],
   "source": [
    "import edhec_risk_kit_110 as erk"
   ]
  },
  {
   "cell_type": "code",
   "execution_count": 21,
   "metadata": {},
   "outputs": [],
   "source": [
    "#연수익률 계산을 위해 datetime으로 인덱스를 바꿔준다\n",
    "rets.index = pd.to_datetime(rets.index, format='%Y-%m-%d', errors='raise')"
   ]
  },
  {
   "cell_type": "code",
   "execution_count": 22,
   "metadata": {},
   "outputs": [
    {
     "name": "stdout",
     "output_type": "stream",
     "text": [
      "2011 252\n",
      "2012 250\n",
      "2013 252\n",
      "2014 252\n",
      "2015 252\n",
      "2016 252\n",
      "2017 251\n",
      "2018 251\n",
      "2019 252\n"
     ]
    }
   ],
   "source": [
    "#연도별 거래일 \n",
    "for i in range(2011,2020):\n",
    "    print (str(i) + ' ' + str(len(rets['{}'.format(i)])))"
   ]
  },
  {
   "cell_type": "code",
   "execution_count": 23,
   "metadata": {},
   "outputs": [
    {
     "data": {
      "text/plain": [
       "RTLSCTR     0.076221\n",
       "INDSSCTR    0.175516\n",
       "PADSCTR     0.125142\n",
       "RXRE        0.113573\n",
       "DESK        0.068286\n",
       "HOTL        0.115054\n",
       "SRVRSCTR    0.167235\n",
       "dtype: float64"
      ]
     },
     "execution_count": 23,
     "metadata": {},
     "output_type": "execute_result"
    }
   ],
   "source": [
    "#연수익률. 그냥 거래일 퉁쳐서 252하기로...\n",
    "#연수익률을 위해 2010년 2020년은 제외시킴\n",
    "er = erk.annualize_rets(rets['2011':'2019'], 252)\n",
    "er"
   ]
  },
  {
   "cell_type": "code",
   "execution_count": 24,
   "metadata": {},
   "outputs": [
    {
     "data": {
      "text/plain": [
       "(0, 0.014326116431112597)"
      ]
     },
     "execution_count": 24,
     "metadata": {},
     "output_type": "execute_result"
    },
    {
     "data": {
      "image/png": "[encoded data removed]",
      "text/plain": [
       "<Figure size 1224x504 with 1 Axes>"
      ]
     },
     "metadata": {
      "needs_background": "light"
     },
     "output_type": "display_data"
    }
   ],
   "source": [
    "#efficient frontier를 그려보자\n",
    "ax = erk.plot_ef(20, er, covmat) #20개 점찍으라는 의미\n",
    "ax.set_xlim(left = 0)"
   ]
  },
  {
   "cell_type": "code",
   "execution_count": 25,
   "metadata": {},
   "outputs": [
    {
     "data": {
      "text/plain": [
       "[<matplotlib.lines.Line2D at 0x2d67887b888>]"
      ]
     },
     "execution_count": 25,
     "metadata": {},
     "output_type": "execute_result"
    },
    {
     "data": {
      "image/png": "[encoded data removed]",
      "text/plain": [
       "<Figure size 1224x504 with 1 Axes>"
      ]
     },
     "metadata": {
      "needs_background": "light"
     },
     "output_type": "display_data"
    }
   ],
   "source": [
    "# plot EF\n",
    "ax = erk.plot_ef(20, er, covmat)\n",
    "ax.set_xlim(left = 0)\n",
    "# get MSR\n",
    "rf = 0.1\n",
    "w_msr = erk.msr(rf, er, covmat) # 이함수가 샤프비율을 극대화시킨다. 목적함수는 마이너스(-)포트폴리오 샤프로 이 값을 극소화하는 함수이다.\n",
    "r_msr = erk.portfolio_return(w_msr, er)\n",
    "vol_msr = erk.portfolio_vol(w_msr, covmat)\n",
    "# add CML\n",
    "cml_x = [0, vol_msr]\n",
    "cml_y = [rf, r_msr]\n",
    "ax.plot(cml_x, cml_y, color='green', marker='o', linestyle='dashed', linewidth=2, markersize=12)"
   ]
  },
  {
   "cell_type": "code",
   "execution_count": 26,
   "metadata": {},
   "outputs": [
    {
     "name": "stdout",
     "output_type": "stream",
     "text": [
      "[8.52814258e-12 4.19325376e-01 4.86868248e-12 8.39129275e-12\n",
      " 8.56554185e-12 4.86538227e-12 5.80674624e-01]\n"
     ]
    },
    {
     "data": {
      "text/plain": [
       "<matplotlib.axes._subplots.AxesSubplot at 0x2d6798b9e48>"
      ]
     },
     "execution_count": 26,
     "metadata": {},
     "output_type": "execute_result"
    },
    {
     "data": {
      "image/png": "[encoded data removed]",
      "text/plain": [
       "<Figure size 360x360 with 1 Axes>"
      ]
     },
     "metadata": {
      "needs_background": "light"
     },
     "output_type": "display_data"
    }
   ],
   "source": [
    "#샤프비율 극대화 포트폴리오의 웨이트\n",
    "print(w_msr)\n",
    "plt.rcParams[\"figure.figsize\"] = (5,5)\n",
    "pd.DataFrame(w_msr, index=covmat.index).plot.bar(title='MSR weights')"
   ]
  },
  {
   "cell_type": "code",
   "execution_count": 27,
   "metadata": {},
   "outputs": [
    {
     "data": {
      "text/plain": [
       "Date.1\n",
       "2010-08-19         NaN\n",
       "2010-08-20   -0.000823\n",
       "2010-08-23   -0.010575\n",
       "2010-08-24   -0.010026\n",
       "2010-08-25    0.015581\n",
       "                ...   \n",
       "2020-07-27    0.017028\n",
       "2020-07-28    0.010979\n",
       "2020-07-29    0.022911\n",
       "2020-07-30   -0.004223\n",
       "2020-07-31   -0.001407\n",
       "Length: 2505, dtype: float64"
      ]
     },
     "execution_count": 27,
     "metadata": {},
     "output_type": "execute_result"
    }
   ],
   "source": [
    "msr_rets = rets @ w_msr\n",
    "msr_rets"
   ]
  },
  {
   "cell_type": "code",
   "execution_count": 28,
   "metadata": {},
   "outputs": [
    {
     "data": {
      "text/html": [
       "<div>\n",
       "<style scoped>\n",
       "    .dataframe tbody tr th:only-of-type {\n",
       "        vertical-align: middle;\n",
       "    }\n",
       "\n",
       "    .dataframe tbody tr th {\n",
       "        vertical-align: top;\n",
       "    }\n",
       "\n",
       "    .dataframe thead th {\n",
       "        text-align: right;\n",
       "    }\n",
       "</style>\n",
       "<table border=\"1\" class=\"dataframe\">\n",
       "  <thead>\n",
       "    <tr style=\"text-align: right;\">\n",
       "      <th></th>\n",
       "      <th>MA60</th>\n",
       "    </tr>\n",
       "    <tr>\n",
       "      <th>Date.1</th>\n",
       "      <th></th>\n",
       "    </tr>\n",
       "  </thead>\n",
       "  <tbody>\n",
       "    <tr>\n",
       "      <th>2020-07-27</th>\n",
       "      <td>0.001969</td>\n",
       "    </tr>\n",
       "    <tr>\n",
       "      <th>2020-07-28</th>\n",
       "      <td>0.002603</td>\n",
       "    </tr>\n",
       "    <tr>\n",
       "      <th>2020-07-29</th>\n",
       "      <td>0.002964</td>\n",
       "    </tr>\n",
       "    <tr>\n",
       "      <th>2020-07-30</th>\n",
       "      <td>0.002759</td>\n",
       "    </tr>\n",
       "    <tr>\n",
       "      <th>2020-07-31</th>\n",
       "      <td>0.002795</td>\n",
       "    </tr>\n",
       "  </tbody>\n",
       "</table>\n",
       "</div>"
      ],
      "text/plain": [
       "                MA60\n",
       "Date.1              \n",
       "2020-07-27  0.001969\n",
       "2020-07-28  0.002603\n",
       "2020-07-29  0.002964\n",
       "2020-07-30  0.002759\n",
       "2020-07-31  0.002795"
      ]
     },
     "execution_count": 28,
     "metadata": {},
     "output_type": "execute_result"
    }
   ],
   "source": [
    "msr_df = pd.DataFrame()\n",
    "#erc_df['MA5'] = ma5\n",
    "#erc_df['MA20'] = ma20\n",
    "msr_df['MA60'] = msr_rets.rolling(window=60).mean()\n",
    "#erc_df['MA120'] = ma120\n",
    "\n",
    "msr_df.tail()"
   ]
  },
  {
   "cell_type": "code",
   "execution_count": 29,
   "metadata": {},
   "outputs": [
    {
     "data": {
      "image/png": "[encoded data removed]",
      "text/plain": [
       "<Figure size 1224x504 with 1 Axes>"
      ]
     },
     "metadata": {
      "needs_background": "light"
     },
     "output_type": "display_data"
    }
   ],
   "source": [
    "plt.rcParams[\"figure.figsize\"] = (17,7)\n",
    "plt.plot(rets.index, (ew_df['MA60']+1).cumprod(), label='EW')\n",
    "plt.plot(rets.index, (erc_df['MA60']+1).cumprod(), label='ERC')\n",
    "plt.plot(rets.index, (msr_df['MA60']+1).cumprod(), label='MSR')\n",
    "plt.legend()\n",
    "plt.grid()\n",
    "\n",
    "\n",
    "#샤프 비율을 고려해야 된다는 것의 당위성이 생겼다"
   ]
  },
  {
   "cell_type": "markdown",
   "metadata": {},
   "source": [
    "### 샤프비율 기여도까지 고려하는 Active risk budgeting"
   ]
  },
  {
   "attachments": {
    "image.png": {
     "image/png": "[encoded data removed]"
    }
   },
   "cell_type": "markdown",
   "metadata": {},
   "source": [
    "t기 RB를 정의하는 식<br>\n",
    "즉, (개별자산의 샤프/ 개별자산의 샤프 합)이 RB가 된다<br>\n",
    "![image.png](attachment:image.png)"
   ]
  },
  {
   "attachments": {
    "image.png": {
     "image/png": "[encoded data removed]"
    }
   },
   "cell_type": "markdown",
   "metadata": {},
   "source": [
    "active RB의 목적함수, 제약조건은 리스크 패리티전략과 같으며 RC-RB의 제곱합을 극소화하는 것이다.<br>\n",
    "![image.png](attachment:image.png)"
   ]
  },
  {
   "cell_type": "markdown",
   "metadata": {},
   "source": [
    "즉 원하는 기간의 RB를 구해 equally weighted weight 대신에 target risk contribution 함수에 넣어주면 위 목적함수를 최소화 하는 것이 된다."
   ]
  },
  {
   "cell_type": "code",
   "execution_count": 33,
   "metadata": {},
   "outputs": [
    {
     "data": {
      "text/plain": [
       "RTLSCTR      81.870985\n",
       "INDSSCTR    407.006089\n",
       "PADSCTR     198.032099\n",
       "RXRE        150.870037\n",
       "DESK         89.722236\n",
       "HOTL        107.468307\n",
       "SRVRSCTR    419.297371\n",
       "Name: 2020-07-31 00:00:00, dtype: float64"
      ]
     },
     "execution_count": 33,
     "metadata": {},
     "output_type": "execute_result"
    }
   ],
   "source": [
    "#개별자산의 샤프비율을 구해보자\n",
    "def sharpe_ratio_s (cov, rets, risk_free_rate):\n",
    "    variance = np.diag(cov)\n",
    "    std =  variance ** 0.5\n",
    "    cum_rets = (1+rets).cumprod().iloc[-1,:]\n",
    "    sharpe_s =  (cum_rets - risk_free_rate)/std\n",
    "    \n",
    "    return sharpe_s\n",
    "\n",
    "sharpe_s = sharpe_ratio_s (covmat, rets, risk_free_rate=0.1)\n",
    "sharpe_s"
   ]
  },
  {
   "cell_type": "code",
   "execution_count": 35,
   "metadata": {},
   "outputs": [
    {
     "data": {
      "text/plain": [
       "RTLSCTR     0.056297\n",
       "INDSSCTR    0.279870\n",
       "PADSCTR     0.136173\n",
       "RXRE        0.103743\n",
       "DESK        0.061696\n",
       "HOTL        0.073899\n",
       "SRVRSCTR    0.288322\n",
       "Name: 2020-07-31 00:00:00, dtype: float64"
      ]
     },
     "execution_count": 35,
     "metadata": {},
     "output_type": "execute_result"
    }
   ],
   "source": [
    "#RB값을 확인\n",
    "RB =  sharpe_s/(sharpe_s.sum())\n",
    "RB"
   ]
  },
  {
   "cell_type": "code",
   "execution_count": 36,
   "metadata": {},
   "outputs": [
    {
     "name": "stdout",
     "output_type": "stream",
     "text": [
      "[0.04936917 0.26441279 0.13787087 0.09058423 0.05781731 0.0703941\n",
      " 0.32955153]\n"
     ]
    },
    {
     "data": {
      "image/png": "[encoded data removed]",
      "text/plain": [
       "<Figure size 360x360 with 1 Axes>"
      ]
     },
     "metadata": {
      "needs_background": "light"
     },
     "output_type": "display_data"
    }
   ],
   "source": [
    "#액티브 RB의 웨이트 \n",
    "plt.rcParams[\"figure.figsize\"] = (5,5)\n",
    "\n",
    "#기존 함수에 타겟만 RB로 바꿔주었다.\n",
    "active_weights = target_risk_contributions(RB, covmat)\n",
    "pd.DataFrame(active_weights, index = covmat.index).plot.bar(title = 'active weights')\n",
    "print(active_weights)"
   ]
  },
  {
   "cell_type": "code",
   "execution_count": 37,
   "metadata": {},
   "outputs": [
    {
     "data": {
      "text/plain": [
       "Date.1\n",
       "2010-08-19         NaN\n",
       "2010-08-20   -0.001030\n",
       "2010-08-23   -0.008438\n",
       "2010-08-24   -0.008508\n",
       "2010-08-25    0.016850\n",
       "                ...   \n",
       "2020-07-27    0.010174\n",
       "2020-07-28    0.015854\n",
       "2020-07-29    0.019490\n",
       "2020-07-30   -0.004615\n",
       "2020-07-31   -0.003489\n",
       "Length: 2505, dtype: float64"
      ]
     },
     "execution_count": 37,
     "metadata": {},
     "output_type": "execute_result"
    }
   ],
   "source": [
    "active_rets = rets @ active_weights\n",
    "active_rets"
   ]
  },
  {
   "cell_type": "code",
   "execution_count": 38,
   "metadata": {},
   "outputs": [
    {
     "data": {
      "text/html": [
       "<div>\n",
       "<style scoped>\n",
       "    .dataframe tbody tr th:only-of-type {\n",
       "        vertical-align: middle;\n",
       "    }\n",
       "\n",
       "    .dataframe tbody tr th {\n",
       "        vertical-align: top;\n",
       "    }\n",
       "\n",
       "    .dataframe thead th {\n",
       "        text-align: right;\n",
       "    }\n",
       "</style>\n",
       "<table border=\"1\" class=\"dataframe\">\n",
       "  <thead>\n",
       "    <tr style=\"text-align: right;\">\n",
       "      <th></th>\n",
       "      <th>MA60</th>\n",
       "    </tr>\n",
       "    <tr>\n",
       "      <th>Date.1</th>\n",
       "      <th></th>\n",
       "    </tr>\n",
       "  </thead>\n",
       "  <tbody>\n",
       "    <tr>\n",
       "      <th>2020-07-27</th>\n",
       "      <td>0.001256</td>\n",
       "    </tr>\n",
       "    <tr>\n",
       "      <th>2020-07-28</th>\n",
       "      <td>0.002088</td>\n",
       "    </tr>\n",
       "    <tr>\n",
       "      <th>2020-07-29</th>\n",
       "      <td>0.002454</td>\n",
       "    </tr>\n",
       "    <tr>\n",
       "      <th>2020-07-30</th>\n",
       "      <td>0.002295</td>\n",
       "    </tr>\n",
       "    <tr>\n",
       "      <th>2020-07-31</th>\n",
       "      <td>0.002443</td>\n",
       "    </tr>\n",
       "  </tbody>\n",
       "</table>\n",
       "</div>"
      ],
      "text/plain": [
       "                MA60\n",
       "Date.1              \n",
       "2020-07-27  0.001256\n",
       "2020-07-28  0.002088\n",
       "2020-07-29  0.002454\n",
       "2020-07-30  0.002295\n",
       "2020-07-31  0.002443"
      ]
     },
     "execution_count": 38,
     "metadata": {},
     "output_type": "execute_result"
    }
   ],
   "source": [
    "active_df = pd.DataFrame()\n",
    "#erc_df['MA5'] = ma5\n",
    "#erc_df['MA20'] = ma20\n",
    "active_df['MA60'] = active_rets.rolling(window=60).mean()\n",
    "#erc_df['MA120'] = ma120\n",
    "\n",
    "active_df.tail()"
   ]
  },
  {
   "cell_type": "code",
   "execution_count": 39,
   "metadata": {},
   "outputs": [
    {
     "data": {
      "image/png": "[encoded data removed]",
      "text/plain": [
       "<Figure size 1224x504 with 1 Axes>"
      ]
     },
     "metadata": {
      "needs_background": "light"
     },
     "output_type": "display_data"
    }
   ],
   "source": [
    "#Active risk budget의 60일 이동평균 수익률\n",
    "#맥시멈샤프와 리스크 패리티 전략 사이 적절한 중간을 보여준다.\n",
    "plt.rcParams[\"figure.figsize\"] = (17,7)\n",
    "plt.plot(rets.index, (ew_df['MA60']+1).cumprod(), label='EW')\n",
    "plt.plot(rets.index, (erc_df['MA60']+1).cumprod(), label='ERC')\n",
    "plt.plot(rets.index, (msr_df['MA60']+1).cumprod(), label='MSR')\n",
    "plt.plot(rets.index, (active_df['MA60']+1).cumprod(), label='ACTIVE RB')\n",
    "plt.legend()\n",
    "plt.grid()"
   ]
  },
  {
   "cell_type": "markdown",
   "metadata": {},
   "source": [
    "### 한계점, 수정사항<br>\n",
    "\n",
    "+ MSR 연평균 수익률을 구할 때 거래일을 252일로 퉁쳐서 계산했고(실제로는 251일인 년도도 존재), 이때문에 년도도 2012년부터 2019년사이의 것으로 연평균 수익률을 구함<br><br>\n",
    "+ RC,RB모두 전체기간에 걸쳐서 적용한 것이기 때문에 기간을 나눠서 해야함<br><br>\n",
    "+ 생존자 편향?"
   ]
  }
 ],
 "metadata": {
  "kernelspec": {
   "display_name": "Python 3",
   "language": "python",
   "name": "python3"
  },
  "language_info": {
   "codemirror_mode": {
    "name": "ipython",
    "version": 3
   },
   "file_extension": ".py",
   "mimetype": "text/x-python",
   "name": "python",
   "nbconvert_exporter": "python",
   "pygments_lexer": "ipython3",
   "version": "3.7.6"
  }
 },
 "nbformat": 4,
 "nbformat_minor": 4
}
